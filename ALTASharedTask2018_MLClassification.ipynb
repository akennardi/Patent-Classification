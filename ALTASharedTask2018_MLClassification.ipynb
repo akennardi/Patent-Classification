{
 "cells": [
  {
   "cell_type": "code",
   "execution_count": 6,
   "metadata": {},
   "outputs": [
    {
     "name": "stdout",
     "output_type": "stream",
     "text": [
      "The autoreload extension is already loaded. To reload it, use:\n",
      "  %reload_ext autoreload\n"
     ]
    }
   ],
   "source": [
    "# Setup\n",
    "%matplotlib inline\n",
    "%load_ext autoreload\n",
    "%autoreload 2\n",
    "import pandas as pd\n",
    "import numpy as np\n",
    "import matplotlib.pyplot as plt\n",
    "import nltk\n",
    "import os, io"
   ]
  },
  {
   "cell_type": "code",
   "execution_count": 7,
   "metadata": {},
   "outputs": [
    {
     "name": "stdout",
     "output_type": "stream",
     "text": [
      "   id first_ipc_mark_section  \\\n",
      "0   0                      A   \n",
      "1   1                      G   \n",
      "2   2                      A   \n",
      "3   3                      A   \n",
      "4   4                      D   \n",
      "\n",
      "                                         description  \\\n",
      "0  ABSTRACT\\n\\n  The disclosure relates to a meth...   \n",
      "1  ABSTRACT\\n\\n       A system and method are pro...   \n",
      "2  ABSTRACT\\n\\nA media module 10 for use with at ...   \n",
      "3  ABSTRACT\\n\\n          A support garment having...   \n",
      "4  THERMALLY REACTIVE THERMOPLASTIC INTERMEDIATE ...   \n",
      "\n",
      "                                  description_tokens  \n",
      "0  [abstract, disclosur, relat, method, gradual, ...  \n",
      "1  [abstract, system, method, provid, execut, mul...  \n",
      "2  [abstract, media, modul, use, least, one, item...  \n",
      "3  [abstract, support, garment, flexibl, panel, f...  \n",
      "4  [thermal, reactiv, thermoplast, intermedi, pro...  \n"
     ]
    }
   ],
   "source": [
    "#Converting description into tokens\n",
    "def preprocessor(text):\n",
    "    __tokenization_pattern = r'''(?x)          # set flag to allow verbose regexps\n",
    "        \\$?\\d+(?:\\.\\d+)?%?  # currency and percentages, e.g. $12.40, 82%\n",
    "      | (?:[A-Z]\\.)+        # abbreviations, e.g. U.S.A.\n",
    "      | \\w+(?:-\\w+)*        # words with optional internal hyphens\n",
    "      | \\.\\.\\.              # ellipsis\n",
    "      | [][.,;\"'?():_`-]    # these are separate tokens; includes ], [\n",
    "    '''\n",
    "\n",
    "    ## call it using tokenizer.tokenize\n",
    "    tokenizer = nltk.tokenize.regexp.RegexpTokenizer(__tokenization_pattern)\n",
    "    tokens = tokenizer.tokenize(text.lower())\n",
    "    alphabet_tokens = [token for token in tokens if token.isalpha()]\n",
    "    en_stopwords = set(nltk.corpus.stopwords.words('english'))\n",
    "    non_stopwords = [word for word in alphabet_tokens if not word in en_stopwords]\n",
    "    stemmer = nltk.stem.snowball.SnowballStemmer(\"english\")\n",
    "    stems = [str(stemmer.stem(word)) for word in non_stopwords]\n",
    "    \n",
    "    return stems\n",
    "\n",
    "train_data['description_tokens'] = train_data['description'].apply(preprocessor)\n",
    "print(train_data.head())"
   ]
  },
  {
   "cell_type": "code",
   "execution_count": 10,
   "metadata": {},
   "outputs": [
    {
     "name": "stdout",
     "output_type": "stream",
     "text": [
      "(3225,)\n"
     ]
    }
   ],
   "source": [
    "from sklearn.preprocessing import LabelEncoder\n",
    "\n",
    "msk = np.random.rand(len(train_data)) < 0.8\n",
    "X_train = train_data.description_tokens[msk]\n",
    "X_test = train_data.description_tokens[~msk]\n",
    "\n",
    "le = LabelEncoder()\n",
    "y = le.fit_transform(train_data.first_ipc_mark_section)\n",
    "y_train = y[msk]\n",
    "y_test = y[~msk]\n",
    "\n",
    "print (y_train.shape)"
   ]
  },
  {
   "cell_type": "code",
   "execution_count": 17,
   "metadata": {},
   "outputs": [
    {
     "name": "stdout",
     "output_type": "stream",
     "text": [
      "start train\n",
      "Done in 2723.089\n",
      "start predict\n",
      "done\n"
     ]
    }
   ],
   "source": [
    "from time import time\n",
    "from sklearn.feature_extraction.text import CountVectorizer\n",
    "from sklearn.pipeline import Pipeline\n",
    "from sklearn.svm import SVC\n",
    "\n",
    "bow_vectorizer = CountVectorizer(lowercase = False, \n",
    "                                     tokenizer = lambda x: x,\n",
    "                                     stop_words = None, \n",
    "                                     max_features = 150000, \n",
    "                                     ngram_range = (1, 3), \n",
    "                                     binary = False)\n",
    "svc = SVC(C=150)\n",
    "svcPipeline = Pipeline([('bow',bow_vectorizer),\n",
    "                        ('svc', svc)])\n",
    "print (\"start train\")\n",
    "t0 = time()\n",
    "svcPipeline.fit(X_train, y_train)\n",
    "print (\"Done in %0.3f\" %(time()-t0))\n",
    "print (\"start predict\")\n",
    "y_svc_predict = svcPipeline.predict(X_test)\n",
    "print (\"done\")"
   ]
  },
  {
   "cell_type": "code",
   "execution_count": 19,
   "metadata": {},
   "outputs": [
    {
     "name": "stdout",
     "output_type": "stream",
     "text": [
      "0.5234270414993306\n"
     ]
    }
   ],
   "source": [
    "from sklearn.metrics import f1_score\n",
    "\n",
    "score = f1_score(y_test, y_svc_predict, average = \"micro\")\n",
    "print (score)"
   ]
  },
  {
   "cell_type": "code",
   "execution_count": null,
   "metadata": {},
   "outputs": [],
   "source": []
  }
 ],
 "metadata": {
  "kernelspec": {
   "display_name": "Python 3",
   "language": "python",
   "name": "python3"
  },
  "language_info": {
   "codemirror_mode": {
    "name": "ipython",
    "version": 3
   },
   "file_extension": ".py",
   "mimetype": "text/x-python",
   "name": "python",
   "nbconvert_exporter": "python",
   "pygments_lexer": "ipython3",
   "version": "3.6.6"
  }
 },
 "nbformat": 4,
 "nbformat_minor": 2
}
